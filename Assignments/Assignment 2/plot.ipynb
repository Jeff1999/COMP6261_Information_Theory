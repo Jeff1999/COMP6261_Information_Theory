{
 "cells": [
  {
   "cell_type": "code",
   "execution_count": 1,
   "id": "06aef4c9",
   "metadata": {
    "ExecuteTime": {
     "end_time": "2022-09-26T05:03:30.489207Z",
     "start_time": "2022-09-26T05:03:29.778205Z"
    }
   },
   "outputs": [],
   "source": [
    "import numpy as np\n",
    "import matplotlib.pyplot as plt\n",
    "from math import log2\n",
    "from scipy.special import comb"
   ]
  },
  {
   "cell_type": "code",
   "execution_count": 2,
   "id": "70d6e64d",
   "metadata": {
    "ExecuteTime": {
     "end_time": "2022-09-26T05:03:30.505211Z",
     "start_time": "2022-09-26T05:03:30.491207Z"
    }
   },
   "outputs": [],
   "source": [
    "p_h, p_t = 0.8, 0.2\n",
    "N = [10, 50]\n",
    "deltas = np.linspace(0, 1, num=50, endpoint=True)"
   ]
  },
  {
   "cell_type": "code",
   "execution_count": 3,
   "id": "0173fabf",
   "metadata": {
    "ExecuteTime": {
     "end_time": "2022-09-26T05:03:30.521258Z",
     "start_time": "2022-09-26T05:03:30.507208Z"
    }
   },
   "outputs": [],
   "source": [
    "def essential_bit_content(p, N, deltas):\n",
    "    if 1 - p > p:\n",
    "        p = 1 - p\n",
    "        \n",
    "    probs = []\n",
    "    for k in range(N + 1):\n",
    "        p_N_k = (p ** k) * ((1 - p) ** (N - k))\n",
    "        probs.extend([p_N_k for _ in range(int(comb(N, k)))])  # ascending order\n",
    "    \n",
    "    avg_essential_bit_contents = []\n",
    "    for delta in deltas:\n",
    "        while sum(probs[1:]) > 1 - delta:\n",
    "            probs.pop(0)\n",
    "        avg_essential_bit_contents.append(log2(len(probs)) / N)\n",
    "        \n",
    "    return deltas, avg_essential_bit_contents\n",
    "\n",
    "\n",
    "def plot_essential_bit_content(D, H, N):\n",
    "    plt.figure(figsize=(10, 6))\n",
    "    plt.scatter(D, H, s=0.1)\n",
    "    for i in range(len(D) - 1):\n",
    "        xs = np.linspace(D[i], D[i + 1], endpoint=True)\n",
    "        plt.plot(xs[:-1], np.repeat(H[i], len(xs) - 1), 'r')\n",
    "        ys = np.linspace(H[i], H[i + 1], endpoint=True)\n",
    "        plt.plot(np.repeat(D[i + 1], len(ys) - 1), ys[:-1], 'r')"
   ]
  },
  {
   "cell_type": "code",
   "execution_count": 4,
   "id": "baf98392",
   "metadata": {
    "ExecuteTime": {
     "end_time": "2022-09-26T05:03:32.500502Z",
     "start_time": "2022-09-26T05:03:30.523209Z"
    }
   },
   "outputs": [
    {
     "data": {
      "text/plain": [
       "Text(0, 0.5, 'Normalised Essential Bit Content')"
      ]
     },
     "execution_count": 4,
     "metadata": {},
     "output_type": "execute_result"
    },
    {
     "data": {
      "image/png": "[encoded data removed]",
      "text/plain": [
       "<Figure size 720x432 with 1 Axes>"
      ]
     },
     "metadata": {
      "needs_background": "light"
     },
     "output_type": "display_data"
    }
   ],
   "source": [
    "N = [100, 200, 500, 800, 1010]\n",
    "colors = ['g', 'b', 'c', 'm', 'y']\n",
    "markers = ['.', 's', 'p', 'P', '*']\n",
    "\n",
    "\n",
    "def plot_essential_bit_content2(p, N, c, m):\n",
    "    n_total = 0\n",
    "    for i in range(N):\n",
    "        n_total += int(comb(N, i))\n",
    "    if 1 - p > p:\n",
    "        p = 1 - p\n",
    "    delta = 0\n",
    "    for k in range(N + 1):\n",
    "        p_N_k = (p ** k) * ((1 - p) ** (N - k))\n",
    "        n_p_N_k = int(comb(N, k))\n",
    "        delta += p_N_k * n_p_N_k\n",
    "        n_total -= n_p_N_k\n",
    "        if n_total == 0:\n",
    "            break\n",
    "        avg_essential_bit_content = log2(n_total) / N\n",
    "        plt.plot(delta, avg_essential_bit_content, c=c, marker=m)\n",
    "\n",
    "\n",
    "D, H = essential_bit_content(p_h, 10, deltas)\n",
    "plot_essential_bit_content(D, H, 10)\n",
    "for n, c, m in zip(N, colors, markers):\n",
    "    plot_essential_bit_content2(p_h, n, c, m)\n",
    "plt.grid()\n",
    "plt.xlabel(\"Delta\")\n",
    "plt.ylabel(\"Normalised Essential Bit Content\")"
   ]
  },
  {
   "cell_type": "code",
   "execution_count": null,
   "id": "66be3412",
   "metadata": {},
   "outputs": [],
   "source": []
  }
 ],
 "metadata": {
  "kernelspec": {
   "display_name": "Python 3 (ipykernel)",
   "language": "python",
   "name": "python3"
  },
  "language_info": {
   "codemirror_mode": {
    "name": "ipython",
    "version": 3
   },
   "file_extension": ".py",
   "mimetype": "text/x-python",
   "name": "python",
   "nbconvert_exporter": "python",
   "pygments_lexer": "ipython3",
   "version": "3.9.12"
  },
  "toc": {
   "base_numbering": 1,
   "nav_menu": {},
   "number_sections": true,
   "sideBar": true,
   "skip_h1_title": false,
   "title_cell": "Table of Contents",
   "title_sidebar": "Contents",
   "toc_cell": false,
   "toc_position": {},
   "toc_section_display": true,
   "toc_window_display": false
  },
  "varInspector": {
   "cols": {
    "lenName": 16,
    "lenType": 16,
    "lenVar": 40
   },
   "kernels_config": {
    "python": {
     "delete_cmd_postfix": "",
     "delete_cmd_prefix": "del ",
     "library": "var_list.py",
     "varRefreshCmd": "print(var_dic_list())"
    },
    "r": {
     "delete_cmd_postfix": ") ",
     "delete_cmd_prefix": "rm(",
     "library": "var_list.r",
     "varRefreshCmd": "cat(var_dic_list()) "
    }
   },
   "types_to_exclude": [
    "module",
    "function",
    "builtin_function_or_method",
    "instance",
    "_Feature"
   ],
   "window_display": false
  }
 },
 "nbformat": 4,
 "nbformat_minor": 5
}
